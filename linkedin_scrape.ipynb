{
 "cells": [
  {
   "cell_type": "code",
   "execution_count": 50,
   "metadata": {},
   "outputs": [
    {
     "name": "stdout",
     "output_type": "stream",
     "text": [
      "Requirement already satisfied: pandas in c:\\users\\andrea.faria\\appdata\\local\\programs\\python\\python311\\lib\\site-packages (2.0.3)\n",
      "Requirement already satisfied: python-dateutil>=2.8.2 in c:\\users\\andrea.faria\\appdata\\roaming\\python\\python311\\site-packages (from pandas) (2.8.2)\n",
      "Requirement already satisfied: pytz>=2020.1 in c:\\users\\andrea.faria\\appdata\\local\\programs\\python\\python311\\lib\\site-packages (from pandas) (2023.3)\n",
      "Requirement already satisfied: tzdata>=2022.1 in c:\\users\\andrea.faria\\appdata\\local\\programs\\python\\python311\\lib\\site-packages (from pandas) (2023.3)\n",
      "Requirement already satisfied: numpy>=1.21.0 in c:\\users\\andrea.faria\\appdata\\local\\programs\\python\\python311\\lib\\site-packages (from pandas) (1.25.2)\n",
      "Requirement already satisfied: six>=1.5 in c:\\users\\andrea.faria\\appdata\\roaming\\python\\python311\\site-packages (from python-dateutil>=2.8.2->pandas) (1.16.0)\n",
      "Note: you may need to restart the kernel to use updated packages.\n"
     ]
    },
    {
     "name": "stderr",
     "output_type": "stream",
     "text": [
      "\n",
      "[notice] A new release of pip is available: 23.1.2 -> 23.2.1\n",
      "[notice] To update, run: python.exe -m pip install --upgrade pip\n"
     ]
    }
   ],
   "source": [
    "pip install pandas"
   ]
  },
  {
   "cell_type": "code",
   "execution_count": 51,
   "metadata": {},
   "outputs": [],
   "source": [
    "import pandas as pd"
   ]
  },
  {
   "cell_type": "code",
   "execution_count": 52,
   "metadata": {},
   "outputs": [],
   "source": [
    "import numpy as np"
   ]
  },
  {
   "cell_type": "code",
   "execution_count": 53,
   "metadata": {},
   "outputs": [
    {
     "name": "stdout",
     "output_type": "stream",
     "text": [
      "Requirement already satisfied: selenium in c:\\users\\andrea.faria\\appdata\\local\\programs\\python\\python311\\lib\\site-packages (4.11.2)\n",
      "Requirement already satisfied: urllib3[socks]<3,>=1.26 in c:\\users\\andrea.faria\\appdata\\local\\programs\\python\\python311\\lib\\site-packages (from selenium) (2.0.4)\n",
      "Requirement already satisfied: trio~=0.17 in c:\\users\\andrea.faria\\appdata\\local\\programs\\python\\python311\\lib\\site-packages (from selenium) (0.22.2)\n",
      "Requirement already satisfied: trio-websocket~=0.9 in c:\\users\\andrea.faria\\appdata\\local\\programs\\python\\python311\\lib\\site-packages (from selenium) (0.10.3)\n",
      "Requirement already satisfied: certifi>=2021.10.8 in c:\\users\\andrea.faria\\appdata\\local\\programs\\python\\python311\\lib\\site-packages (from selenium) (2023.7.22)\n",
      "Requirement already satisfied: attrs>=20.1.0 in c:\\users\\andrea.faria\\appdata\\local\\programs\\python\\python311\\lib\\site-packages (from trio~=0.17->selenium) (23.1.0)\n",
      "Requirement already satisfied: sortedcontainers in c:\\users\\andrea.faria\\appdata\\local\\programs\\python\\python311\\lib\\site-packages (from trio~=0.17->selenium) (2.4.0)\n",
      "Requirement already satisfied: idna in c:\\users\\andrea.faria\\appdata\\local\\programs\\python\\python311\\lib\\site-packages (from trio~=0.17->selenium) (3.4)\n",
      "Requirement already satisfied: outcome in c:\\users\\andrea.faria\\appdata\\local\\programs\\python\\python311\\lib\\site-packages (from trio~=0.17->selenium) (1.2.0)\n",
      "Requirement already satisfied: sniffio in c:\\users\\andrea.faria\\appdata\\local\\programs\\python\\python311\\lib\\site-packages (from trio~=0.17->selenium) (1.3.0)\n",
      "Requirement already satisfied: cffi>=1.14 in c:\\users\\andrea.faria\\appdata\\local\\programs\\python\\python311\\lib\\site-packages (from trio~=0.17->selenium) (1.15.1)\n",
      "Requirement already satisfied: exceptiongroup in c:\\users\\andrea.faria\\appdata\\local\\programs\\python\\python311\\lib\\site-packages (from trio-websocket~=0.9->selenium) (1.1.2)\n",
      "Requirement already satisfied: wsproto>=0.14 in c:\\users\\andrea.faria\\appdata\\local\\programs\\python\\python311\\lib\\site-packages (from trio-websocket~=0.9->selenium) (1.2.0)\n",
      "Requirement already satisfied: pysocks!=1.5.7,<2.0,>=1.5.6 in c:\\users\\andrea.faria\\appdata\\local\\programs\\python\\python311\\lib\\site-packages (from urllib3[socks]<3,>=1.26->selenium) (1.7.1)\n",
      "Requirement already satisfied: pycparser in c:\\users\\andrea.faria\\appdata\\local\\programs\\python\\python311\\lib\\site-packages (from cffi>=1.14->trio~=0.17->selenium) (2.21)\n",
      "Requirement already satisfied: h11<1,>=0.9.0 in c:\\users\\andrea.faria\\appdata\\local\\programs\\python\\python311\\lib\\site-packages (from wsproto>=0.14->trio-websocket~=0.9->selenium) (0.14.0)\n",
      "Note: you may need to restart the kernel to use updated packages.\n"
     ]
    },
    {
     "name": "stderr",
     "output_type": "stream",
     "text": [
      "\n",
      "[notice] A new release of pip is available: 23.1.2 -> 23.2.1\n",
      "[notice] To update, run: python.exe -m pip install --upgrade pip\n"
     ]
    }
   ],
   "source": [
    "pip install selenium"
   ]
  },
  {
   "cell_type": "code",
   "execution_count": 54,
   "metadata": {},
   "outputs": [
    {
     "name": "stdout",
     "output_type": "stream",
     "text": [
      "Requirement already satisfied: beautifulsoup4 in c:\\users\\andrea.faria\\appdata\\local\\programs\\python\\python311\\lib\\site-packages (4.12.2)\n",
      "Requirement already satisfied: soupsieve>1.2 in c:\\users\\andrea.faria\\appdata\\local\\programs\\python\\python311\\lib\\site-packages (from beautifulsoup4) (2.4.1)\n",
      "Note: you may need to restart the kernel to use updated packages.\n"
     ]
    },
    {
     "name": "stderr",
     "output_type": "stream",
     "text": [
      "\n",
      "[notice] A new release of pip is available: 23.1.2 -> 23.2.1\n",
      "[notice] To update, run: python.exe -m pip install --upgrade pip\n"
     ]
    }
   ],
   "source": [
    "pip install beautifulsoup4"
   ]
  },
  {
   "cell_type": "code",
   "execution_count": null,
   "metadata": {},
   "outputs": [],
   "source": []
  },
  {
   "cell_type": "code",
   "execution_count": 55,
   "metadata": {},
   "outputs": [],
   "source": [
    "import bs4"
   ]
  },
  {
   "cell_type": "code",
   "execution_count": 56,
   "metadata": {},
   "outputs": [],
   "source": [
    "from selenium import webdriver"
   ]
  },
  {
   "cell_type": "code",
   "execution_count": 57,
   "metadata": {},
   "outputs": [],
   "source": [
    "from selenium.webdriver.common.by import By"
   ]
  },
  {
   "cell_type": "code",
   "execution_count": 58,
   "metadata": {},
   "outputs": [],
   "source": [
    "import time"
   ]
  },
  {
   "cell_type": "code",
   "execution_count": 59,
   "metadata": {},
   "outputs": [
    {
     "name": "stdout",
     "output_type": "stream",
     "text": [
      "Requirement already satisfied: lxml in c:\\users\\andrea.faria\\appdata\\local\\programs\\python\\python311\\lib\\site-packages (4.9.3)\n",
      "Note: you may need to restart the kernel to use updated packages.\n"
     ]
    },
    {
     "name": "stderr",
     "output_type": "stream",
     "text": [
      "\n",
      "[notice] A new release of pip is available: 23.1.2 -> 23.2.1\n",
      "[notice] To update, run: python.exe -m pip install --upgrade pip\n"
     ]
    }
   ],
   "source": [
    "pip install lxml"
   ]
  },
  {
   "cell_type": "code",
   "execution_count": 60,
   "metadata": {},
   "outputs": [
    {
     "data": {
      "text/plain": [
       "[bs4.builder._lxml.LXMLTreeBuilder,\n",
       " bs4.builder._lxml.LXMLTreeBuilderForXML,\n",
       " bs4.builder._htmlparser.HTMLParserTreeBuilder]"
      ]
     },
     "execution_count": 60,
     "metadata": {},
     "output_type": "execute_result"
    }
   ],
   "source": [
    "bs4.builder.builder_registry.builders"
   ]
  },
  {
   "cell_type": "code",
   "execution_count": 61,
   "metadata": {},
   "outputs": [],
   "source": [
    "from bs4 import BeautifulSoup"
   ]
  },
  {
   "cell_type": "code",
   "execution_count": 62,
   "metadata": {},
   "outputs": [],
   "source": [
    "import bs4.builder._lxml"
   ]
  },
  {
   "cell_type": "code",
   "execution_count": 63,
   "metadata": {},
   "outputs": [],
   "source": [
    "import lxml"
   ]
  },
  {
   "cell_type": "code",
   "execution_count": 64,
   "metadata": {},
   "outputs": [],
   "source": [
    "import lxml.etree"
   ]
  },
  {
   "cell_type": "code",
   "execution_count": 65,
   "metadata": {},
   "outputs": [],
   "source": [
    "driver = webdriver.Chrome()"
   ]
  },
  {
   "cell_type": "code",
   "execution_count": 66,
   "metadata": {},
   "outputs": [],
   "source": [
    "# Opening linkedIn's login page\n",
    "driver.get(\"https://linkedin.com/uas/login\")"
   ]
  },
  {
   "cell_type": "code",
   "execution_count": 67,
   "metadata": {},
   "outputs": [],
   "source": [
    "# waiting for the page to load\n",
    "time.sleep(5)"
   ]
  },
  {
   "cell_type": "code",
   "execution_count": 68,
   "metadata": {},
   "outputs": [],
   "source": [
    "# entering username\n",
    "username = driver.find_element(By.ID, \"username\")"
   ]
  },
  {
   "cell_type": "code",
   "execution_count": 69,
   "metadata": {},
   "outputs": [],
   "source": [
    "# Enter Your Email Address\n",
    "username.send_keys(\"provisori.a.mente2@gmail.com\")"
   ]
  },
  {
   "cell_type": "code",
   "execution_count": 70,
   "metadata": {},
   "outputs": [],
   "source": [
    "#Enter password\n",
    "pword = driver.find_element(By.ID, \"password\")\n",
    "pword.send_keys(\"pzb_QTM-gkh_yrt5jru\")"
   ]
  },
  {
   "cell_type": "code",
   "execution_count": 71,
   "metadata": {},
   "outputs": [],
   "source": [
    "driver.find_element(By.XPATH, \"//button[@type='submit']\").click()"
   ]
  },
  {
   "cell_type": "code",
   "execution_count": 72,
   "metadata": {},
   "outputs": [],
   "source": [
    "linkedin_url_list_2 = ['https://www.linkedin.com/in/christine-sanchez-b52a34179/',\n",
    " 'https://www.linkedin.com/in/giovanni-ahern-7361b3154/',\n",
    " 'https://www.linkedin.com/in/bryanzhou/',\n",
    " 'https://www.linkedin.com/in/joshua-solesbury-206589170/',\n",
    " 'https://www.linkedin.com/in/jada-yang/',\n",
    " 'https://www.linkedin.com/in/atul-raguveer/',\n",
    " 'https://www.linkedin.com/in/kellenposacki/',\n",
    " 'https://www.linkedin.com/in/jack-ward00/',\n",
    " 'https://www.linkedin.com/in/ryanldermody/',\n",
    " 'https://www.linkedin.com/in/mariya-shtiliyanova/',\n",
    " 'https://www.linkedin.com/in/m-b-johnson/',\n",
    " 'https://www.linkedin.com/in/sherrytxie/',\n",
    " 'https://www.linkedin.com/in/christopher-parks-137596155/',\n",
    " 'https://www.linkedin.com/in/jill-yu/',\n",
    " 'https://www.linkedin.com/in/roberto-garcia-860533144/',\n",
    " 'https://www.linkedin.com/in/ericxu98/',\n",
    " 'https://www.linkedin.com/in/frederico-s-630111123/',\n",
    " 'https://www.linkedin.com/in/michael-losavio/',\n",
    " 'https://www.linkedin.com/in/michaelczhao/',\n",
    " 'https://www.linkedin.com/in/nylesykes/',\n",
    " 'https://www.linkedin.com/in/avni-patel-b3699516a/',\n",
    " 'https://www.linkedin.com/in/howie-shen-2bb89513b/',\n",
    " 'https://www.linkedin.com/in/janet-huang/',\n",
    " 'https://www.linkedin.com/in/varun-bhardwaj-58b229132/',\n",
    " 'https://www.linkedin.com/in/weitinghong/',\n",
    " 'https://www.linkedin.com/in/jpdonahue1/',\n",
    " 'https://www.linkedin.com/in/jenna-snyder-colorado/',\n",
    " 'https://www.linkedin.com/in/gurkamalspannu/',\n",
    " 'https://www.linkedin.com/in/jphelps21/',\n",
    " 'https://www.linkedin.com/in/harsha-paladugu-974bab62/',\n",
    " 'https://www.linkedin.com/in/ahanmalhotra/',\n",
    " 'https://www.linkedin.com/in/christopherjfletcher/',\n",
    " 'https://www.linkedin.com/in/james-rao-14835498/',\n",
    " 'https://www.linkedin.com/in/paulina-ruta/',\n",
    " 'https://www.linkedin.com/in/ryan-beaudet-3b8722168/',\n",
    " 'https://www.linkedin.com/in/jennifer-l-65b2ba149/',\n",
    " 'https://www.linkedin.com/in/jacktmiller/',\n",
    " 'https://www.linkedin.com/in/esther-duffy-930161109/',\n",
    " 'https://www.linkedin.com/in/wtey/',\n",
    " 'https://www.linkedin.com/in/yanmessoussa/',\n",
    " 'https://www.linkedin.com/in/lukas-schwarzmann-a5a2a4121/',\n",
    " 'https://www.linkedin.com/in/rita-cui/',\n",
    " 'https://www.linkedin.com/in/zachary-m-53a97751/',\n",
    " 'https://www.linkedin.com/in/nelson-urdaneta-mezerhane-196331124/',\n",
    " 'https://www.linkedin.com/in/anusha-chintalapati-8026b211a/',\n",
    " 'https://www.linkedin.com/in/camila-quintana/',\n",
    " 'https://www.linkedin.com/in/matt-jackson-071929162/',\n",
    " 'https://www.linkedin.com/in/alex-agus-60330ba5/',\n",
    " 'https://www.linkedin.com/in/anni-z-5436a596/',\n",
    " 'https://www.linkedin.com/in/xhmaxbai/',\n",
    " 'https://www.linkedin.com/in/alyssa-ling-7a9b64139/',\n",
    " 'https://www.linkedin.com/in/isaac-p-2b3007183/',\n",
    " 'https://www.linkedin.com/in/prithvi-boggavaram-996236125/?originalSubdomain=sg',\n",
    " 'https://www.linkedin.com/in/garrettobermeyer/',\n",
    " 'https://www.linkedin.com/in/henry-schaefer-181061126',\n",
    " 'https://www.linkedin.com/in/wyatt-guernsey/',\n",
    " 'https://www.linkedin.com/in/michael-benevento/',\n",
    " 'https://www.linkedin.com/in/jacob-blewitt-b9895b12a/',\n",
    " 'https://www.linkedin.com/in/jim-mccabe-73aba6124/',\n",
    " 'https://www.linkedin.com/in/makenziegeorge/',\n",
    " 'https://www.linkedin.com/in/angela-gladkikh/',\n",
    " 'https://www.linkedin.com/in/jon-prangley-28552715b/',\n",
    " 'https://www.linkedin.com/in/john-paul-salci-89224b177/',\n",
    " 'https://www.linkedin.com/in/patrick-haubert-1a9584130/',\n",
    " 'https://www.linkedin.com/in/huntersfields/',\n",
    " 'https://www.linkedin.com/in/joseph-vasile-5748a7134/',\n",
    " 'https://www.linkedin.com/in/nicolastrausch/',\n",
    " 'https://www.linkedin.com/in/darryl-wang-096326104/',\n",
    " 'https://www.linkedin.com/in/wei-yang-tey-41780382/',\n",
    " 'https://www.linkedin.com/in/alessandro-luciano-b77456119/',\n",
    " 'https://www.linkedin.com/in/nadkilani/',\n",
    " 'https://www.linkedin.com/in/frank-geng-bab0aab1/',\n",
    " 'https://www.linkedin.com/in/russell-woehrmyer-13a330125/',\n",
    " 'https://www.linkedin.com/in/matthew-urbik-332b4311a/',\n",
    " 'https://www.linkedin.com/in/will-allen-301a33108',\n",
    " 'https://www.linkedin.com/in/selina-wang-9bb30b81/',\n",
    " 'https://www.linkedin.com/in/edward-salamone/',\n",
    " 'https://www.linkedin.com/in/krisauyeung/',\n",
    " 'https://www.linkedin.com/in/noah-shields-657061ba/',\n",
    " 'https://www.linkedin.com/in/william-e-popik/',\n",
    " 'https://www.linkedin.com/in/michael-nimerfroh-32a993105/',\n",
    " 'https://www.linkedin.com/in/michael-tylko-22a51142/',\n",
    " 'https://www.linkedin.com/in/michael-tylko-22a51142/https://www.linkedin.com/in/michael-shao-913231bb/',\n",
    " 'https://www.linkedin.com/in/george-hu-64477b105/',\n",
    " 'https://www.linkedin.com/in/sohamnshah/',\n",
    " 'https://www.linkedin.com/in/lucasoliveira10/',\n",
    " 'https://www.linkedin.com/in/jessmaa/',\n",
    " 'https://www.linkedin.com/in/glendachan/',\n",
    " 'https://www.linkedin.com/in/krish-pamani-67788054/',\n",
    " 'https://www.linkedin.com/in/aimun-malik-8b557585/',\n",
    " 'https://www.linkedin.com/in/parth-chopra/',\n",
    " 'https://www.linkedin.com/in/dylanadelman1/',\n",
    " 'https://www.linkedin.com/in/andykhamilton/',\n",
    " 'https://www.linkedin.com/in/evan-willmann/',\n",
    " 'https://www.linkedin.com/in/sean-lim-373b1214b/',\n",
    " 'https://www.linkedin.com/in/matthew-zehr-0b812995/',\n",
    " 'https://www.linkedin.com/in/robert-luc-woodard-14367b106/',\n",
    " 'https://www.linkedin.com/in/jay-bhandari-114941a3/',\n",
    " 'https://www.linkedin.com/in/drewgweaver/',\n",
    " 'https://www.linkedin.com/in/austinkavanaugh/',\n",
    " 'https://www.linkedin.com/in/stephenie-zhang-9b5bb3a9/',\n",
    " 'https://www.linkedin.com/in/mitchel-myers/',\n",
    " 'https://www.linkedin.com/in/david-friedman-b44ba9104/',\n",
    " 'https://www.linkedin.com/in/kevin-yang-9479b595/',\n",
    " 'https://www.linkedin.com/in/matt-jackson-071929162',\n",
    " 'https://www.linkedin.com/in/carli-turrittin/',\n",
    " 'https://www.linkedin.com/in/harrison-balistreri-45aa9577/',\n",
    " 'https://www.linkedin.com/in/michael-pesce-9937a879/',\n",
    " 'https://www.linkedin.com/in/olivia-bren-a5a29280/',\n",
    " 'https://www.linkedin.com/in/everettrandle/',\n",
    " 'https://www.linkedin.com/in/brian-englander-304a0879/',\n",
    " 'https://www.linkedin.com/in/connor-popik/',\n",
    " 'https://www.linkedin.com/in/tejassundaresan/',\n",
    " 'https://www.linkedin.com/in/madhusudanvijay/',\n",
    " 'https://www.linkedin.com/in/nick-gupta-519310ab/',\n",
    " 'https://www.linkedin.com/in/david-reading-03574b77/',\n",
    " 'https://www.linkedin.com/in/kelly-jiang-26341782/',\n",
    " 'https://www.linkedin.com/in/akshay-ramachandran-a536a164/',\n",
    " 'https://www.linkedin.com/in/dwango/',\n",
    " 'https://www.linkedin.com/in/alexandretrausch/',\n",
    " 'https://www.linkedin.com/in/daniel-berschader-055964b1/',\n",
    " 'https://www.linkedin.com/in/nisargagrawal/',\n",
    " 'https://www.linkedin.com/in/shashwat-chugh-44701688/',\n",
    " 'https://www.linkedin.com/in/kevin-li-5a2b7329/',\n",
    " 'https://www.linkedin.com/in/hank-sneddon-bb110066/',\n",
    " 'https://www.linkedin.com/in/nicholas-ang-b0244130',\n",
    " 'https://www.linkedin.com/in/wei-ming-wong-13602678',\n",
    " 'https://www.linkedin.com/in/deepdheri',\n",
    " 'https://www.linkedin.com/in/lucas-wimmer-5bb66455',\n",
    " 'https://www.linkedin.com/in/isabella-meyer-62933137/',\n",
    " 'https://www.linkedin.com/in/tommy-campbell-24911068',\n",
    " 'https://www.linkedin.com/in/drewimhoff',\n",
    " 'https://www.linkedin.com/in/jeremy-kalas-6235b491/',\n",
    " 'https://www.linkedin.com/in/nolan-smith-7b77035b/',\n",
    " 'https://www.linkedin.com/in/willzimmerman/',\n",
    " 'https://www.linkedin.com/in/rickbrubaker/',\n",
    " 'https://www.linkedin.com/in/john-logan-brock-61b90a70/',\n",
    " 'https://www.linkedin.com/in/kaelanong/',\n",
    " 'https://www.linkedin.com/in/ryanliew1/',\n",
    " 'https://www.linkedin.com/in/manning-feng-90684438/',\n",
    " 'https://www.linkedin.com/in/pratyusha-gupta-a2897460/',\n",
    " 'https://www.linkedin.com/in/saanya-ojha-99167386/',\n",
    " 'https://www.linkedin.com/in/katiraei/',\n",
    " 'https://www.linkedin.com/in/nicholas-liu-915a5a3b/',\n",
    " 'https://www.linkedin.com/in/nicolai-forsman-ludvigsen-91a01b30/',\n",
    " 'https://www.linkedin.com/in/simon-ma-aa47b1131/',\n",
    " 'https://www.linkedin.com/in/alexander-martino-3742121b/',\n",
    " 'https://www.linkedin.com/in/eleanormeloul/',\n",
    " 'https://www.linkedin.com/in/alexandre-momeni-777a946b/',\n",
    " 'https://www.linkedin.com/in/deependramookim',\n",
    " 'https://www.linkedin.com/in/davidolsson1/',\n",
    " 'https://www.linkedin.com/in/simon-allan-67a2b059/',\n",
    " 'https://www.linkedin.com/in/andrew-brackmann-4175274a',\n",
    " 'https://www.linkedin.com/in/andrew-das-sarma-b09a1784/',\n",
    " 'https://www.linkedin.com/in/eric-flanigan-0a351549',\n",
    " 'https://www.linkedin.com/in/patrick-forte-3aba9787',\n",
    " 'https://www.linkedin.com/in/nathan-gupta-5577a855/',\n",
    " 'https://www.linkedin.com/in/david-schofield-9881a27a/',\n",
    " 'https://www.linkedin.com/in/matej-senkarcin-b57a6416/',\n",
    " 'https://www.linkedin.com/in/frank-zhu/',\n",
    " 'https://www.linkedin.com/in/jim-myrtetus-70242226',\n",
    " 'https://www.linkedin.com/in/joseph-nitting-2347a727',\n",
    " 'https://www.linkedin.com/in/jhanavi-pathak-1159ba81/',\n",
    " 'https://www.linkedin.com/in/linhdpham',\n",
    " 'https://www.linkedin.com/in/shruti-shah-8a111863/',\n",
    " 'https://www.linkedin.com/in/fraser-simpson-2b520934/',\n",
    " 'https://www.linkedin.com/in/daniel-sullivan-a9431b20',\n",
    " 'https://www.linkedin.com/in/dominic-waltz-977a0733/',\n",
    " 'https://www.linkedin.com/in/scott-yu-2a967727',\n",
    " 'https://www.linkedin.com/in/kevin-allman-7000884a',\n",
    " 'https://www.linkedin.com/in/justin-ang-ab808545/',\n",
    " 'https://www.linkedin.com/in/aartykbaev/',\n",
    " 'https://www.linkedin.com/in/drummond-clark-582a6456/',\n",
    " 'https://www.linkedin.com/in/rainagandhi/',\n",
    " 'https://www.linkedin.com/in/thomas-gorman-83710254/',\n",
    " 'https://www.linkedin.com/in/loren-harman-4a088845/',\n",
    " 'https://www.linkedin.com/in/orcas333/',\n",
    " 'https://www.linkedin.com/in/sahil-khetpal-b21b2924/',\n",
    " 'https://www.linkedin.com/in/joshua-liang-073b0a30/',\n",
    " 'https://www.linkedin.com/in/matthew-morris-569a7b47/',\n",
    " 'https://www.linkedin.com/in/jeremiah-leong-guang-hao-42331516',\n",
    " 'https://www.linkedin.com/in/ashutosh-patra-26381a21/',\n",
    " 'https://www.linkedin.com/in/zach-pendleton-15a11a92/',\n",
    " 'https://www.linkedin.com/in/jamieperse/',\n",
    " 'https://www.linkedin.com/in/andrew-provost-946aa017/',\n",
    " 'https://www.linkedin.com/in/paul-schmelzing-85346b35/',\n",
    " 'https://www.linkedin.com/in/shelly-jin-44956937/',\n",
    " 'https://www.linkedin.com/in/emkleinman',\n",
    " 'https://www.linkedin.com/in/jaybhalodi',\n",
    " 'https://www.linkedin.com/in/ben-bold-8044a721',\n",
    " 'https://www.linkedin.com/in/peter-chen-65b1101b/',\n",
    " 'https://www.linkedin.com/in/rexhep-dollaku-35856137/',\n",
    " 'https://www.linkedin.com/in/nicolas-dupuis-40675628/',\n",
    " 'https://www.linkedin.com/in/sebastian-garcia-202aba37',\n",
    " 'https://www.linkedin.com/in/lauren-grzybowski-0b832178/',\n",
    " 'https://www.linkedin.com/in/ryan-hunn-9317542b',\n",
    " 'https://www.linkedin.com/in/avinash-nagaraja-3102ba22',\n",
    " 'https://www.linkedin.com/in/jaime-steinhardt-cfa-09841645/',\n",
    " 'https://www.linkedin.com/in/kevin-tracey-6541a720/',\n",
    " 'https://www.linkedin.com/in/brian-weickmann-85960019',\n",
    " 'https://www.linkedin.com/in/ellentyang',\n",
    " 'https://www.linkedin.com/in/katefundera',\n",
    " 'https://www.linkedin.com/in/wesleybayer/',\n",
    " 'https://www.linkedin.com/in/tongchen/',\n",
    " 'https://www.linkedin.com/in/dominic-gerster-4b599856/',\n",
    " 'https://www.linkedin.com/in/lawrencekoo/',\n",
    " 'https://www.linkedin.com/in/grace-lau-10a90a1a/',\n",
    " 'https://www.linkedin.com/in/david-li-9aa210b/',\n",
    " 'https://www.linkedin.com/in/zuri-michan-81b0922a',\n",
    " 'https://www.linkedin.com/in/rrichmond/',\n",
    " 'https://www.linkedin.com/in/aman-sarup-29072987/',\n",
    " 'https://www.linkedin.com/in/maulikmshah/',\n",
    " 'https://www.linkedin.com/in/cornelius-sheridan-91574211',\n",
    " 'https://www.linkedin.com/in/gideonspitzer',\n",
    " 'https://www.linkedin.com/in/eric-h-su-58a0575/',\n",
    " 'https://www.linkedin.com/in/veryser',\n",
    " 'https://www.linkedin.com/in/ldw28/',\n",
    " 'https://www.linkedin.com/in/bwigoder/',\n",
    " 'https://www.linkedin.com/in/kevin-abels-cfa-1175117',\n",
    " 'https://www.linkedin.com/in/saurabhbikram/',\n",
    " 'https://www.linkedin.com/in/alice-chung-9229218/',\n",
    " 'https://www.linkedin.com/in/ericlfischer/',\n",
    " 'https://www.linkedin.com/in/heather-gartin-16944540/',\n",
    " 'https://www.linkedin.com/in/jaymal-nathwani-7940a012/',\n",
    " 'https://www.linkedin.com/in/chrisramesh',\n",
    " 'https://www.linkedin.com/in/akeel-rangwala-11117711/',\n",
    " 'https://www.linkedin.com/in/andrew-yoon-9b34b411/',\n",
    " 'https://www.linkedin.com/in/hong-min-lin-4798931b/',\n",
    " 'https://www.linkedin.com/in/colemagrath/',\n",
    " 'https://www.linkedin.com/in/nikhil-marathe-95b70421/',\n",
    " 'https://www.linkedin.com/in/jim-ortman-cfa-cfp%C2%AE-34a5172/',\n",
    " 'https://www.linkedin.com/in/kevin-pan-6b19004/',\n",
    " 'https://www.linkedin.com/in/ashwinpushpala/',\n",
    " 'https://www.linkedin.com/in/ccrobertson/',\n",
    " 'https://www.linkedin.com/in/michael-shen-b21b984/',\n",
    " 'https://www.linkedin.com/in/rohan-srinivasan-b6058b15',\n",
    " 'https://www.linkedin.com/in/michael-tanzer-37758b6',\n",
    " 'https://www.linkedin.com/in/lhtong/',\n",
    " 'https://www.linkedin.com/in/jp-tramontana-9aab8b3a',\n",
    " 'https://www.linkedin.com/in/veena-bontu-84a21b21',\n",
    " 'https://www.linkedin.com/in/wchan17',\n",
    " 'https://www.linkedin.com/in/cwcmichelle/',\n",
    " 'https://www.linkedin.com/in/jacheng/',\n",
    " 'https://www.linkedin.com/in/micaeladrolshagen',\n",
    " 'https://www.linkedin.com/in/mattangriffel',\n",
    " 'https://www.linkedin.com/in/david-homonoff-54a82932',\n",
    " 'https://www.linkedin.com/in/horacelam/',\n",
    " 'https://www.linkedin.com/in/misha-levental-0682a37/',\n",
    " 'https://www.linkedin.com/in/aaronwoodward/',\n",
    " 'https://www.linkedin.com/in/blake-wu-5a455616/',\n",
    " 'https://www.linkedin.com/in/rory-priday-2697a759/',\n",
    " 'https://www.linkedin.com/in/roman-smukler-0aa1916',\n",
    " 'https://www.linkedin.com/in/yansuiwang/',\n",
    " 'https://www.linkedin.com/in/johnkrebsbach',\n",
    " 'https://www.linkedin.com/in/howard-chang-494b1012/',\n",
    " 'https://www.linkedin.com/in/chris-chodaczek-4a3b8342/',\n",
    " 'https://www.linkedin.com/in/sunyoungchung/',\n",
    " 'https://www.linkedin.com/in/christinefard/',\n",
    " 'https://www.linkedin.com/in/rwgreen1',\n",
    " 'https://www.linkedin.com/in/subhen-jeyaindran-64549520/',\n",
    " 'https://www.linkedin.com/in/daniel-vyravipillai-588b302/',\n",
    " 'https://www.linkedin.com/in/helenyweng/',\n",
    " 'https://www.linkedin.com/in/jyzhu/',\n",
    " 'https://www.linkedin.com/in/kent-choi-605a04b3/',\n",
    " 'https://www.linkedin.com/in/samirhsheth/',\n",
    " 'https://www.linkedin.com/in/olivieradler/',\n",
    " 'https://www.linkedin.com/in/pierre-brunet-2bb94422/',\n",
    " 'https://www.linkedin.com/in/lauren-carter-1906962a/',\n",
    " 'https://www.linkedin.com/in/cankut-durgun-1a639352/',\n",
    " 'https://www.linkedin.com/in/michael-plumlee-b4b66036/',\n",
    " 'https://www.linkedin.com/in/brina-pollack-680ba853/',\n",
    " 'https://www.linkedin.com/in/jprajogo/',\n",
    " 'https://www.linkedin.com/in/benjamin-pollak-a9199a30/',\n",
    " 'https://www.linkedin.com/in/tim-shannon-cfa-6b62494/',\n",
    " 'https://www.linkedin.com/in/ravi-vuthoori-857a9414/',\n",
    " 'https://www.linkedin.com/in/mlswong',\n",
    " 'https://www.linkedin.com/in/jon-brachle-21881114/',\n",
    " 'https://www.linkedin.com/in/tim-piechowski-cfa-26632a5/',\n",
    " 'https://www.linkedin.com/in/inyangakpan/',\n",
    " 'https://www.linkedin.com/in/andrewartz/',\n",
    " 'https://www.linkedin.com/in/beau-beckley-1360777/',\n",
    " 'https://www.linkedin.com/in/jon-brachle-21881114/',\n",
    " 'https://www.linkedin.com/in/jack-becsey/',\n",
    " 'https://www.linkedin.com/in/denis-fraenkel-bab1772/',\n",
    " 'https://www.linkedin.com/in/rufino-mendoza-a109a51/',\n",
    " 'https://www.linkedin.com/in/ken-talanian-5849a41/',\n",
    " 'https://www.linkedin.com/in/meiersean/',\n",
    " 'https://www.linkedin.com/in/cnazemi/',\n",
    " 'https://www.linkedin.com/in/richard-davis-8340912/',\n",
    " 'https://www.linkedin.com/in/reiji-kodama-68412312/'\n",
    " ]"
   ]
  },
  {
   "cell_type": "code",
   "execution_count": 73,
   "metadata": {},
   "outputs": [],
   "source": [
    "# Dictionary to store scraped data\n",
    "name_list = []\n",
    "work_list = []"
   ]
  },
  {
   "cell_type": "code",
   "execution_count": 74,
   "metadata": {},
   "outputs": [],
   "source": [
    "for i in linkedin_url_list_2:\n",
    "    profile_url = i\n",
    "    driver.get(i)\n",
    "\n",
    "    start = time.time()\n",
    " \n",
    "    # will be used in the while loop\n",
    "    initialScroll = 0\n",
    "    finalScroll = 1000\n",
    " \n",
    "    while True:\n",
    "        driver.execute_script(f\"window.scrollTo({initialScroll},\\\n",
    "                                            {finalScroll})\")\n",
    "        # this command scrolls the window starting from\n",
    "        # the pixel value stored in the initialScroll\n",
    "        # variable to the pixel value stored at the\n",
    "        # finalScroll variable\n",
    "        initialScroll = finalScroll\n",
    "        finalScroll += 1000\n",
    "    \n",
    "        # we will stop the script for 3 seconds so that\n",
    "        # the data can load\n",
    "        time.sleep(3)\n",
    "        # You can change it as per your needs and internet speed\n",
    "    \n",
    "        end = time.time()\n",
    "    \n",
    "        # We will scroll for 20 seconds.\n",
    "        # You can change it as per your needs and internet speed\n",
    "        if round(end - start) > 20:\n",
    "            break\n",
    "\n",
    "        src = driver.page_source\n",
    " \n",
    "        # Now using beautiful soup\n",
    "        soup = BeautifulSoup(src, 'lxml')\n",
    "\n",
    "        intro = soup.find('div', {'class': 'pv-text-details__left-panel'})\n",
    "        #print(intro)\n",
    "\n",
    "        #Extract name\n",
    "        name_loc = intro.find(\"h1\")\n",
    "        name = name_loc.get_text().strip()\n",
    "\n",
    "        #Store in list\n",
    "        name_list.append(name)\n",
    "\n",
    "        works_at_loc = intro.find(\"div\", {'class': 'text-body-medium'})\n",
    " \n",
    "        # this gives us the HTML of the tag in which the Company Name is present\n",
    "        # Extracting the Company Name\n",
    "        works_at = works_at_loc.get_text().strip()\n",
    "\n",
    "        work_list.append(works_at)\n",
    "\n",
    "        #experience = soup.find('div', {'class': 'pvs-entity pvs-entity--padded pvs-list__item--no-padding-in-columns'})\n",
    "        #print(experience)\n",
    "\n",
    "        #Job Title\n",
    "        #job_title_loc = experience.find('div',{'class':'display-flex align-items-center mr1 t-bold'})\n",
    "        #job_title = job_title_loc.get_text().strip()\n",
    "\n",
    "            "
   ]
  },
  {
   "cell_type": "code",
   "execution_count": 76,
   "metadata": {},
   "outputs": [],
   "source": [
    "myDict = {}\n",
    "myDict['Full Name'] = name_list\n",
    "myDict['Current Work'] = work_list\n",
    "myDict['Linkedin Profile'] = linkedin_url_list_2"
   ]
  },
  {
   "cell_type": "code",
   "execution_count": 77,
   "metadata": {},
   "outputs": [
    {
     "data": {
      "text/plain": [
       "{'Full Name': ['Christine Sanchez',\n",
       "  'Christine Sanchez',\n",
       "  'Christine Sanchez',\n",
       "  'Christine Sanchez',\n",
       "  'Christine Sanchez',\n",
       "  'Christine Sanchez',\n",
       "  'Giovanni Ahern',\n",
       "  'Giovanni Ahern',\n",
       "  'Giovanni Ahern',\n",
       "  'Giovanni Ahern',\n",
       "  'Giovanni Ahern',\n",
       "  'Giovanni Ahern',\n",
       "  'Bryan Zhou',\n",
       "  'Bryan Zhou',\n",
       "  'Bryan Zhou',\n",
       "  'Bryan Zhou',\n",
       "  'Bryan Zhou',\n",
       "  'Bryan Zhou',\n",
       "  'Joshua Solesbury',\n",
       "  'Joshua Solesbury',\n",
       "  'Joshua Solesbury',\n",
       "  'Joshua Solesbury',\n",
       "  'Joshua Solesbury',\n",
       "  'Joshua Solesbury',\n",
       "  'Jada Yang',\n",
       "  'Jada Yang',\n",
       "  'Jada Yang',\n",
       "  'Jada Yang',\n",
       "  'Jada Yang',\n",
       "  'Jada Yang',\n",
       "  'Atul Raguveer',\n",
       "  'Atul Raguveer',\n",
       "  'Atul Raguveer',\n",
       "  'Atul Raguveer',\n",
       "  'Atul Raguveer',\n",
       "  'Atul Raguveer',\n",
       "  'Kellen Posacki',\n",
       "  'Kellen Posacki',\n",
       "  'Kellen Posacki',\n",
       "  'Kellen Posacki',\n",
       "  'Kellen Posacki',\n",
       "  'Kellen Posacki',\n",
       "  'Jack Ward',\n",
       "  'Jack Ward',\n",
       "  'Jack Ward',\n",
       "  'Jack Ward',\n",
       "  'Jack Ward',\n",
       "  'Jack Ward',\n",
       "  'Ryan Dermody',\n",
       "  'Ryan Dermody',\n",
       "  'Ryan Dermody',\n",
       "  'Ryan Dermody',\n",
       "  'Ryan Dermody',\n",
       "  'Ryan Dermody'],\n",
       " 'Current Work': ['Technology Investor at Warburg Pincus',\n",
       "  'Technology Investor at Warburg Pincus',\n",
       "  'Technology Investor at Warburg Pincus',\n",
       "  'Technology Investor at Warburg Pincus',\n",
       "  'Technology Investor at Warburg Pincus',\n",
       "  'Technology Investor at Warburg Pincus',\n",
       "  'Private Equity Analyst at Bain Capital',\n",
       "  'Private Equity Analyst at Bain Capital',\n",
       "  'Private Equity Analyst at Bain Capital',\n",
       "  'Private Equity Analyst at Bain Capital',\n",
       "  'Private Equity Analyst at Bain Capital',\n",
       "  'Private Equity Analyst at Bain Capital',\n",
       "  'Private Equity at Warburg Pincus',\n",
       "  'Private Equity at Warburg Pincus',\n",
       "  'Private Equity at Warburg Pincus',\n",
       "  'Private Equity at Warburg Pincus',\n",
       "  'Private Equity at Warburg Pincus',\n",
       "  'Private Equity at Warburg Pincus',\n",
       "  'Investments at ParaFi Capital',\n",
       "  'Investments at ParaFi Capital',\n",
       "  'Investments at ParaFi Capital',\n",
       "  'Investments at ParaFi Capital',\n",
       "  'Investments at ParaFi Capital',\n",
       "  'Investments at ParaFi Capital',\n",
       "  'Student at New York University',\n",
       "  'Student at New York University',\n",
       "  'Student at New York University',\n",
       "  'Student at New York University',\n",
       "  'Student at New York University',\n",
       "  'Student at New York University',\n",
       "  'Investment Banking Analyst at Morgan Stanley',\n",
       "  'Investment Banking Analyst at Morgan Stanley',\n",
       "  'Investment Banking Analyst at Morgan Stanley',\n",
       "  'Investment Banking Analyst at Morgan Stanley',\n",
       "  'Investment Banking Analyst at Morgan Stanley',\n",
       "  'Investment Banking Analyst at Morgan Stanley',\n",
       "  'Investment Banking Analyst at Cowen Inc.',\n",
       "  'Investment Banking Analyst at Cowen Inc.',\n",
       "  'Investment Banking Analyst at Cowen Inc.',\n",
       "  'Investment Banking Analyst at Cowen Inc.',\n",
       "  'Investment Banking Analyst at Cowen Inc.',\n",
       "  'Investment Banking Analyst at Cowen Inc.',\n",
       "  'Investment Banking Analyst at Lincoln International',\n",
       "  'Investment Banking Analyst at Lincoln International',\n",
       "  'Investment Banking Analyst at Lincoln International',\n",
       "  'Investment Banking Analyst at Lincoln International',\n",
       "  'Investment Banking Analyst at Lincoln International',\n",
       "  'Investment Banking Analyst at Lincoln International',\n",
       "  'Investment Banking Analyst at KeyBanc Capital Markets',\n",
       "  'Investment Banking Analyst at KeyBanc Capital Markets',\n",
       "  'Investment Banking Analyst at KeyBanc Capital Markets',\n",
       "  'Investment Banking Analyst at KeyBanc Capital Markets',\n",
       "  'Investment Banking Analyst at KeyBanc Capital Markets',\n",
       "  'Investment Banking Analyst at KeyBanc Capital Markets'],\n",
       " 'Linkedin Profile': ['https://www.linkedin.com/in/christine-sanchez-b52a34179/',\n",
       "  'https://www.linkedin.com/in/giovanni-ahern-7361b3154/',\n",
       "  'https://www.linkedin.com/in/bryanzhou/',\n",
       "  'https://www.linkedin.com/in/joshua-solesbury-206589170/',\n",
       "  'https://www.linkedin.com/in/jada-yang/',\n",
       "  'https://www.linkedin.com/in/atul-raguveer/',\n",
       "  'https://www.linkedin.com/in/kellenposacki/',\n",
       "  'https://www.linkedin.com/in/jack-ward00/',\n",
       "  'https://www.linkedin.com/in/ryanldermody/']}"
      ]
     },
     "execution_count": 77,
     "metadata": {},
     "output_type": "execute_result"
    }
   ],
   "source": [
    "myDict"
   ]
  }
 ],
 "metadata": {
  "kernelspec": {
   "display_name": "Python 3",
   "language": "python",
   "name": "python3"
  },
  "language_info": {
   "codemirror_mode": {
    "name": "ipython",
    "version": 3
   },
   "file_extension": ".py",
   "mimetype": "text/x-python",
   "name": "python",
   "nbconvert_exporter": "python",
   "pygments_lexer": "ipython3",
   "version": "3.11.4"
  },
  "orig_nbformat": 4
 },
 "nbformat": 4,
 "nbformat_minor": 2
}
