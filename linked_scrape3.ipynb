{
 "cells": [
  {
   "cell_type": "code",
   "execution_count": null,
   "metadata": {},
   "outputs": [],
   "source": [
    "pip install pandas"
   ]
  },
  {
   "cell_type": "code",
   "execution_count": null,
   "metadata": {},
   "outputs": [],
   "source": [
    "import pandas as pd"
   ]
  },
  {
   "cell_type": "code",
   "execution_count": null,
   "metadata": {},
   "outputs": [],
   "source": [
    "import numpy as np"
   ]
  },
  {
   "cell_type": "code",
   "execution_count": null,
   "metadata": {},
   "outputs": [],
   "source": [
    "pip install selenium"
   ]
  },
  {
   "cell_type": "code",
   "execution_count": null,
   "metadata": {},
   "outputs": [],
   "source": [
    "pip install beautifulsoup4"
   ]
  },
  {
   "cell_type": "code",
   "execution_count": null,
   "metadata": {},
   "outputs": [],
   "source": []
  },
  {
   "cell_type": "code",
   "execution_count": null,
   "metadata": {},
   "outputs": [],
   "source": [
    "import bs4"
   ]
  },
  {
   "cell_type": "code",
   "execution_count": null,
   "metadata": {},
   "outputs": [],
   "source": [
    "from selenium import webdriver"
   ]
  },
  {
   "cell_type": "code",
   "execution_count": null,
   "metadata": {},
   "outputs": [],
   "source": [
    "from selenium.webdriver.common.by import By"
   ]
  },
  {
   "cell_type": "code",
   "execution_count": null,
   "metadata": {},
   "outputs": [],
   "source": [
    "import time"
   ]
  },
  {
   "cell_type": "code",
   "execution_count": null,
   "metadata": {},
   "outputs": [],
   "source": [
    "pip install lxml"
   ]
  },
  {
   "cell_type": "code",
   "execution_count": null,
   "metadata": {},
   "outputs": [],
   "source": [
    "bs4.builder.builder_registry.builders"
   ]
  },
  {
   "cell_type": "code",
   "execution_count": null,
   "metadata": {},
   "outputs": [],
   "source": [
    "from bs4 import BeautifulSoup"
   ]
  },
  {
   "cell_type": "code",
   "execution_count": null,
   "metadata": {},
   "outputs": [],
   "source": [
    "import bs4.builder._lxml"
   ]
  },
  {
   "cell_type": "code",
   "execution_count": null,
   "metadata": {},
   "outputs": [],
   "source": [
    "import lxml"
   ]
  },
  {
   "cell_type": "code",
   "execution_count": null,
   "metadata": {},
   "outputs": [],
   "source": [
    "import lxml.etree"
   ]
  },
  {
   "cell_type": "code",
   "execution_count": null,
   "metadata": {},
   "outputs": [],
   "source": [
    "driver = webdriver.Chrome()"
   ]
  },
  {
   "cell_type": "code",
   "execution_count": null,
   "metadata": {},
   "outputs": [],
   "source": [
    "# Opening linkedIn's login page\n",
    "driver.get(\"https://linkedin.com/uas/login\")"
   ]
  },
  {
   "cell_type": "code",
   "execution_count": null,
   "metadata": {},
   "outputs": [],
   "source": [
    "# waiting for the page to load\n",
    "time.sleep(5)"
   ]
  },
  {
   "cell_type": "code",
   "execution_count": null,
   "metadata": {},
   "outputs": [],
   "source": [
    "# entering username\n",
    "username = driver.find_element(By.ID, \"username\")"
   ]
  },
  {
   "cell_type": "code",
   "execution_count": null,
   "metadata": {},
   "outputs": [],
   "source": [
    "# Enter Your Email Address\n",
    "username.send_keys(\"meu@email.com\")"
   ]
  },
  {
   "cell_type": "code",
   "execution_count": null,
   "metadata": {},
   "outputs": [],
   "source": [
    "#Enter password\n",
    "pword = driver.find_element(By.ID, \"password\")\n",
    "pword.send_keys(\"minha_senha\")"
   ]
  },
  {
   "cell_type": "code",
   "execution_count": null,
   "metadata": {},
   "outputs": [],
   "source": [
    "driver.find_element(By.XPATH, \"//button[@type='submit']\").click()"
   ]
  },
  {
   "cell_type": "code",
   "execution_count": null,
   "metadata": {},
   "outputs": [],
   "source": [
    "linkedin_url_list_2 = [\n",
    " 'https://www.linkedin.com/in/tiagopaiva/',\n",
    " 'https://www.linkedin.com/in/teocalvo/',\n",
    " 'https://www.linkedin.com/in/paulomanzato/'\n",
    " ]"
   ]
  },
  {
   "cell_type": "code",
   "execution_count": null,
   "metadata": {},
   "outputs": [],
   "source": [
    "# Dictionary to store scraped data\n",
    "name_list = []\n",
    "work_list = []"
   ]
  },
  {
   "cell_type": "code",
   "execution_count": null,
   "metadata": {},
   "outputs": [],
   "source": [
    "for i in linkedin_url_list_2:\n",
    "    profile_url = i\n",
    "    driver.get(i)\n",
    "\n",
    "    start = time.time()\n",
    " \n",
    "    # will be used in the while loop\n",
    "    initialScroll = 0\n",
    "    finalScroll = 1000\n",
    " \n",
    "    while True:\n",
    "        driver.execute_script(f\"window.scrollTo({initialScroll},\\\n",
    "                                            {finalScroll})\")\n",
    "        # this command scrolls the window starting from\n",
    "        # the pixel value stored in the initialScroll\n",
    "        # variable to the pixel value stored at the\n",
    "        # finalScroll variable\n",
    "        initialScroll = finalScroll\n",
    "        finalScroll += 1000\n",
    "    \n",
    "        # we will stop the script for 3 seconds so that\n",
    "        # the data can load\n",
    "        time.sleep(3)\n",
    "        # You can change it as per your needs and internet speed\n",
    "    \n",
    "        end = time.time()\n",
    "    \n",
    "        # We will scroll for 20 seconds.\n",
    "        # You can change it as per your needs and internet speed\n",
    "        if round(end - start) > 20:\n",
    "            break\n",
    "\n",
    "        src = driver.page_source\n",
    " \n",
    "        # Now using beautiful soup\n",
    "        soup = BeautifulSoup(src, 'lxml')\n",
    "\n",
    "        intro = soup.find('div', {'class': 'pv-text-details__left-panel'})\n",
    "        #print(intro)\n",
    "\n",
    "        #Extract name\n",
    "        name_loc = intro.find(\"h1\")\n",
    "        name = name_loc.get_text().strip()\n",
    "\n",
    "        \n",
    "        works_at_loc = intro.find(\"div\", {'class': 'text-body-medium'})\n",
    " \n",
    "        # this gives us the HTML of the tag in which the Company Name is present\n",
    "        # Extracting the Company Name\n",
    "        works_at = works_at_loc.get_text().strip()\n",
    "\n",
    "        \n",
    "        #experience = soup.find('div', {'class': 'pvs-entity pvs-entity--padded pvs-list__item--no-padding-in-columns'})\n",
    "        #print(experience)\n",
    "\n",
    "        #Job Title\n",
    "        #job_title_loc = experience.find('div',{'class':'display-flex align-items-center mr1 t-bold'})\n",
    "        #job_title = job_title_loc.get_text().strip()\n",
    "\n",
    "        #Store in list\n",
    "        if name not in name_list:\n",
    "            name_list.append(name)\n",
    "        \n",
    "        if works_at not in work_list:\n",
    "            work_list.append(works_at)\n",
    "\n",
    "            "
   ]
  },
  {
   "cell_type": "code",
   "execution_count": null,
   "metadata": {},
   "outputs": [],
   "source": [
    "myDict = {}\n",
    "myDict['Full Name'] = name_list\n",
    "myDict['Current Work'] = work_list\n",
    "myDict['Linkedin Profile'] = linkedin_url_list_2"
   ]
  },
  {
   "cell_type": "code",
   "execution_count": null,
   "metadata": {},
   "outputs": [],
   "source": [
    "display(myDict)"
   ]
  },
  {
   "cell_type": "code",
   "execution_count": null,
   "metadata": {},
   "outputs": [],
   "source": [
    "data = pd.DataFrame.from_dict(myDict, orient='index')\n",
    "data.transpose()"
   ]
  }
 ],
 "metadata": {
  "kernelspec": {
   "display_name": "Python 3",
   "language": "python",
   "name": "python3"
  },
  "language_info": {
   "codemirror_mode": {
    "name": "ipython",
    "version": 3
   },
   "file_extension": ".py",
   "mimetype": "text/x-python",
   "name": "python",
   "nbconvert_exporter": "python",
   "pygments_lexer": "ipython3",
   "version": "3.11.4"
  },
  "orig_nbformat": 4
 },
 "nbformat": 4,
 "nbformat_minor": 2
}
