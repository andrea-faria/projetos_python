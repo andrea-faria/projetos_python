{
 "cells": [
  {
   "cell_type": "code",
   "execution_count": 1,
   "metadata": {},
   "outputs": [
    {
     "name": "stdout",
     "output_type": "stream",
     "text": [
      "Note: you may need to restart the kernel to use updated packages.Requirement already satisfied: pandas in c:\\users\\andrea.faria\\appdata\\local\\programs\\python\\python311\\lib\\site-packages (2.0.3)\n",
      "Requirement already satisfied: python-dateutil>=2.8.2 in c:\\users\\andrea.faria\\appdata\\roaming\\python\\python311\\site-packages (from pandas) (2.8.2)\n",
      "Requirement already satisfied: pytz>=2020.1 in c:\\users\\andrea.faria\\appdata\\local\\programs\\python\\python311\\lib\\site-packages (from pandas) (2023.3)\n",
      "Requirement already satisfied: tzdata>=2022.1 in c:\\users\\andrea.faria\\appdata\\local\\programs\\python\\python311\\lib\\site-packages (from pandas) (2023.3)\n",
      "Requirement already satisfied: numpy>=1.21.0 in c:\\users\\andrea.faria\\appdata\\local\\programs\\python\\python311\\lib\\site-packages (from pandas) (1.25.2)\n",
      "Requirement already satisfied: six>=1.5 in c:\\users\\andrea.faria\\appdata\\roaming\\python\\python311\\site-packages (from python-dateutil>=2.8.2->pandas) (1.16.0)\n",
      "\n"
     ]
    },
    {
     "name": "stderr",
     "output_type": "stream",
     "text": [
      "\n",
      "[notice] A new release of pip is available: 23.1.2 -> 23.2.1\n",
      "[notice] To update, run: python.exe -m pip install --upgrade pip\n"
     ]
    }
   ],
   "source": [
    "pip install pandas"
   ]
  },
  {
   "cell_type": "code",
   "execution_count": 2,
   "metadata": {},
   "outputs": [],
   "source": [
    "import pandas as pd"
   ]
  },
  {
   "cell_type": "code",
   "execution_count": 3,
   "metadata": {},
   "outputs": [],
   "source": [
    "import numpy as np"
   ]
  },
  {
   "cell_type": "code",
   "execution_count": 4,
   "metadata": {},
   "outputs": [
    {
     "name": "stdout",
     "output_type": "stream",
     "text": [
      "Requirement already satisfied: selenium in c:\\users\\andrea.faria\\appdata\\local\\programs\\python\\python311\\lib\\site-packages (4.11.2)Note: you may need to restart the kernel to use updated packages.\n",
      "\n",
      "Requirement already satisfied: urllib3[socks]<3,>=1.26 in c:\\users\\andrea.faria\\appdata\\local\\programs\\python\\python311\\lib\\site-packages (from selenium) (2.0.4)\n",
      "Requirement already satisfied: trio~=0.17 in c:\\users\\andrea.faria\\appdata\\local\\programs\\python\\python311\\lib\\site-packages (from selenium) (0.22.2)\n",
      "Requirement already satisfied: trio-websocket~=0.9 in c:\\users\\andrea.faria\\appdata\\local\\programs\\python\\python311\\lib\\site-packages (from selenium) (0.10.3)\n",
      "Requirement already satisfied: certifi>=2021.10.8 in c:\\users\\andrea.faria\\appdata\\local\\programs\\python\\python311\\lib\\site-packages (from selenium) (2023.7.22)\n",
      "Requirement already satisfied: attrs>=20.1.0 in c:\\users\\andrea.faria\\appdata\\local\\programs\\python\\python311\\lib\\site-packages (from trio~=0.17->selenium) (23.1.0)\n",
      "Requirement already satisfied: sortedcontainers in c:\\users\\andrea.faria\\appdata\\local\\programs\\python\\python311\\lib\\site-packages (from trio~=0.17->selenium) (2.4.0)\n",
      "Requirement already satisfied: idna in c:\\users\\andrea.faria\\appdata\\local\\programs\\python\\python311\\lib\\site-packages (from trio~=0.17->selenium) (3.4)\n",
      "Requirement already satisfied: outcome in c:\\users\\andrea.faria\\appdata\\local\\programs\\python\\python311\\lib\\site-packages (from trio~=0.17->selenium) (1.2.0)\n",
      "Requirement already satisfied: sniffio in c:\\users\\andrea.faria\\appdata\\local\\programs\\python\\python311\\lib\\site-packages (from trio~=0.17->selenium) (1.3.0)\n",
      "Requirement already satisfied: cffi>=1.14 in c:\\users\\andrea.faria\\appdata\\local\\programs\\python\\python311\\lib\\site-packages (from trio~=0.17->selenium) (1.15.1)\n",
      "Requirement already satisfied: exceptiongroup in c:\\users\\andrea.faria\\appdata\\local\\programs\\python\\python311\\lib\\site-packages (from trio-websocket~=0.9->selenium) (1.1.2)\n",
      "Requirement already satisfied: wsproto>=0.14 in c:\\users\\andrea.faria\\appdata\\local\\programs\\python\\python311\\lib\\site-packages (from trio-websocket~=0.9->selenium) (1.2.0)\n",
      "Requirement already satisfied: pysocks!=1.5.7,<2.0,>=1.5.6 in c:\\users\\andrea.faria\\appdata\\local\\programs\\python\\python311\\lib\\site-packages (from urllib3[socks]<3,>=1.26->selenium) (1.7.1)\n",
      "Requirement already satisfied: pycparser in c:\\users\\andrea.faria\\appdata\\local\\programs\\python\\python311\\lib\\site-packages (from cffi>=1.14->trio~=0.17->selenium) (2.21)\n",
      "Requirement already satisfied: h11<1,>=0.9.0 in c:\\users\\andrea.faria\\appdata\\local\\programs\\python\\python311\\lib\\site-packages (from wsproto>=0.14->trio-websocket~=0.9->selenium) (0.14.0)\n"
     ]
    },
    {
     "name": "stderr",
     "output_type": "stream",
     "text": [
      "\n",
      "[notice] A new release of pip is available: 23.1.2 -> 23.2.1\n",
      "[notice] To update, run: python.exe -m pip install --upgrade pip\n"
     ]
    }
   ],
   "source": [
    "pip install selenium"
   ]
  },
  {
   "cell_type": "code",
   "execution_count": 5,
   "metadata": {},
   "outputs": [
    {
     "name": "stdout",
     "output_type": "stream",
     "text": [
      "Requirement already satisfied: beautifulsoup4 in c:\\users\\andrea.faria\\appdata\\local\\programs\\python\\python311\\lib\\site-packages (4.12.2)\n",
      "Requirement already satisfied: soupsieve>1.2 in c:\\users\\andrea.faria\\appdata\\local\\programs\\python\\python311\\lib\\site-packages (from beautifulsoup4) (2.4.1)\n",
      "Note: you may need to restart the kernel to use updated packages.\n"
     ]
    },
    {
     "name": "stderr",
     "output_type": "stream",
     "text": [
      "\n",
      "[notice] A new release of pip is available: 23.1.2 -> 23.2.1\n",
      "[notice] To update, run: python.exe -m pip install --upgrade pip\n"
     ]
    }
   ],
   "source": [
    "pip install beautifulsoup4"
   ]
  },
  {
   "cell_type": "code",
   "execution_count": null,
   "metadata": {},
   "outputs": [],
   "source": []
  },
  {
   "cell_type": "code",
   "execution_count": 6,
   "metadata": {},
   "outputs": [],
   "source": [
    "import bs4"
   ]
  },
  {
   "cell_type": "code",
   "execution_count": 7,
   "metadata": {},
   "outputs": [],
   "source": [
    "from selenium import webdriver"
   ]
  },
  {
   "cell_type": "code",
   "execution_count": 8,
   "metadata": {},
   "outputs": [],
   "source": [
    "from selenium.webdriver.common.by import By"
   ]
  },
  {
   "cell_type": "code",
   "execution_count": 9,
   "metadata": {},
   "outputs": [],
   "source": [
    "import time"
   ]
  },
  {
   "cell_type": "code",
   "execution_count": 10,
   "metadata": {},
   "outputs": [
    {
     "name": "stdout",
     "output_type": "stream",
     "text": [
      "Requirement already satisfied: lxml in c:\\users\\andrea.faria\\appdata\\local\\programs\\python\\python311\\lib\\site-packages (4.9.3)\n",
      "Note: you may need to restart the kernel to use updated packages.\n"
     ]
    },
    {
     "name": "stderr",
     "output_type": "stream",
     "text": [
      "\n",
      "[notice] A new release of pip is available: 23.1.2 -> 23.2.1\n",
      "[notice] To update, run: python.exe -m pip install --upgrade pip\n"
     ]
    }
   ],
   "source": [
    "pip install lxml"
   ]
  },
  {
   "cell_type": "code",
   "execution_count": 11,
   "metadata": {},
   "outputs": [
    {
     "data": {
      "text/plain": [
       "[bs4.builder._lxml.LXMLTreeBuilder,\n",
       " bs4.builder._lxml.LXMLTreeBuilderForXML,\n",
       " bs4.builder._htmlparser.HTMLParserTreeBuilder]"
      ]
     },
     "execution_count": 11,
     "metadata": {},
     "output_type": "execute_result"
    }
   ],
   "source": [
    "bs4.builder.builder_registry.builders"
   ]
  },
  {
   "cell_type": "code",
   "execution_count": 12,
   "metadata": {},
   "outputs": [],
   "source": [
    "from bs4 import BeautifulSoup"
   ]
  },
  {
   "cell_type": "code",
   "execution_count": 13,
   "metadata": {},
   "outputs": [],
   "source": [
    "import bs4.builder._lxml"
   ]
  },
  {
   "cell_type": "code",
   "execution_count": 14,
   "metadata": {},
   "outputs": [],
   "source": [
    "import lxml"
   ]
  },
  {
   "cell_type": "code",
   "execution_count": 15,
   "metadata": {},
   "outputs": [],
   "source": [
    "import lxml.etree"
   ]
  },
  {
   "cell_type": "code",
   "execution_count": 16,
   "metadata": {},
   "outputs": [],
   "source": [
    "driver = webdriver.Chrome()"
   ]
  },
  {
   "cell_type": "code",
   "execution_count": 17,
   "metadata": {},
   "outputs": [],
   "source": [
    "# Opening linkedIn's login page\n",
    "driver.get(\"https://linkedin.com/uas/login\")"
   ]
  },
  {
   "cell_type": "code",
   "execution_count": 18,
   "metadata": {},
   "outputs": [],
   "source": [
    "# waiting for the page to load\n",
    "time.sleep(5)"
   ]
  },
  {
   "cell_type": "code",
   "execution_count": 19,
   "metadata": {},
   "outputs": [],
   "source": [
    "# entering username\n",
    "username = driver.find_element(By.ID, \"username\")"
   ]
  },
  {
   "cell_type": "code",
   "execution_count": 20,
   "metadata": {},
   "outputs": [],
   "source": [
    "# Enter Your Email Address\n",
    "username.send_keys(\"provisori.a.mente2@gmail.com\")"
   ]
  },
  {
   "cell_type": "code",
   "execution_count": 21,
   "metadata": {},
   "outputs": [],
   "source": [
    "#Enter password\n",
    "pword = driver.find_element(By.ID, \"password\")\n",
    "pword.send_keys(\"pzb_QTM-gkh_yrt5jru\")"
   ]
  },
  {
   "cell_type": "code",
   "execution_count": 22,
   "metadata": {},
   "outputs": [],
   "source": [
    "driver.find_element(By.XPATH, \"//button[@type='submit']\").click()"
   ]
  },
  {
   "cell_type": "code",
   "execution_count": 23,
   "metadata": {},
   "outputs": [],
   "source": [
    "linkedin_url_list_2 = ['https://www.linkedin.com/in/l%C3%A1zaro-ramos/','https://www.linkedin.com/in/diogocortiz/','https://www.linkedin.com/in/teocalvo/']"
   ]
  },
  {
   "cell_type": "code",
   "execution_count": 24,
   "metadata": {},
   "outputs": [],
   "source": [
    "# Dictionary to store scraped data\n",
    "name_list = []\n",
    "work_list = []"
   ]
  },
  {
   "cell_type": "code",
   "execution_count": 25,
   "metadata": {},
   "outputs": [],
   "source": [
    "for i in linkedin_url_list_2:\n",
    "    profile_url = i\n",
    "    driver.get(i)\n",
    "\n",
    "    start = time.time()\n",
    " \n",
    "    # will be used in the while loop\n",
    "    initialScroll = 0\n",
    "    finalScroll = 1000\n",
    " \n",
    "    while True:\n",
    "        driver.execute_script(f\"window.scrollTo({initialScroll},\\\n",
    "                                            {finalScroll})\")\n",
    "        # this command scrolls the window starting from\n",
    "        # the pixel value stored in the initialScroll\n",
    "        # variable to the pixel value stored at the\n",
    "        # finalScroll variable\n",
    "        initialScroll = finalScroll\n",
    "        finalScroll += 1000\n",
    "    \n",
    "        # we will stop the script for 3 seconds so that\n",
    "        # the data can load\n",
    "        time.sleep(3)\n",
    "        # You can change it as per your needs and internet speed\n",
    "    \n",
    "        end = time.time()\n",
    "    \n",
    "        # We will scroll for 20 seconds.\n",
    "        # You can change it as per your needs and internet speed\n",
    "        if round(end - start) > 20:\n",
    "            break\n",
    "\n",
    "        src = driver.page_source\n",
    " \n",
    "        # Now using beautiful soup\n",
    "        soup = BeautifulSoup(src, 'lxml')\n",
    "\n",
    "        intro = soup.find('div', {'class': 'pv-text-details__left-panel'})\n",
    "        #print(intro)\n",
    "\n",
    "        #Extract name\n",
    "        name_loc = intro.find(\"h1\")\n",
    "        name = name_loc.get_text().strip()\n",
    "\n",
    "        #Store in list\n",
    "        name_list.append(name)\n",
    "\n",
    "        works_at_loc = intro.find(\"div\", {'class': 'text-body-medium'})\n",
    " \n",
    "        # this gives us the HTML of the tag in which the Company Name is present\n",
    "        # Extracting the Company Name\n",
    "        works_at = works_at_loc.get_text().strip()\n",
    "\n",
    "        work_list.append(works_at)\n",
    "\n",
    "        #experience = soup.find('div', {'class': 'pvs-entity pvs-entity--padded pvs-list__item--no-padding-in-columns'})\n",
    "        #print(experience)\n",
    "\n",
    "        #Job Title\n",
    "        #job_title_loc = experience.find('div',{'class':'display-flex align-items-center mr1 t-bold'})\n",
    "        #job_title = job_title_loc.get_text().strip()\n",
    "\n",
    "            "
   ]
  },
  {
   "cell_type": "code",
   "execution_count": 26,
   "metadata": {},
   "outputs": [],
   "source": [
    "myDict = {}\n",
    "myDict['Full Name'] = name_list\n",
    "myDict['Current Work'] = work_list\n",
    "myDict['Linkedin Profile'] = linkedin_url_list_2"
   ]
  },
  {
   "cell_type": "code",
   "execution_count": 27,
   "metadata": {},
   "outputs": [
    {
     "data": {
      "text/plain": [
       "{'Full Name': ['Lázaro Ramos',\n",
       "  'Lázaro Ramos',\n",
       "  'Lázaro Ramos',\n",
       "  'Lázaro Ramos',\n",
       "  'Lázaro Ramos',\n",
       "  'Diogo Cortiz, PhD',\n",
       "  'Diogo Cortiz, PhD',\n",
       "  'Diogo Cortiz, PhD',\n",
       "  'Diogo Cortiz, PhD',\n",
       "  'Diogo Cortiz, PhD',\n",
       "  'Téo Calvo',\n",
       "  'Téo Calvo',\n",
       "  'Téo Calvo',\n",
       "  'Téo Calvo',\n",
       "  'Téo Calvo',\n",
       "  'Téo Calvo'],\n",
       " 'Current Work': ['CEO na LP - LAZ Produções Artisticas | Em contrato de Overall Deal na Amazon Prime Video | Ator | Diretor | Dramaturgo | Escritor e Empresário.',\n",
       "  'CEO na LP - LAZ Produções Artisticas | Em contrato de Overall Deal na Amazon Prime Video | Ator | Diretor | Dramaturgo | Escritor e Empresário.',\n",
       "  'CEO na LP - LAZ Produções Artisticas | Em contrato de Overall Deal na Amazon Prime Video | Ator | Diretor | Dramaturgo | Escritor e Empresário.',\n",
       "  'CEO na LP - LAZ Produções Artisticas | Em contrato de Overall Deal na Amazon Prime Video | Ator | Diretor | Dramaturgo | Escritor e Empresário.',\n",
       "  'CEO na LP - LAZ Produções Artisticas | Em contrato de Overall Deal na Amazon Prime Video | Ator | Diretor | Dramaturgo | Escritor e Empresário.',\n",
       "  'Researcher, Speaker and Writer | Professor @ PUC-SP | LinkedIn Top Voice',\n",
       "  'Researcher, Speaker and Writer | Professor @ PUC-SP | LinkedIn Top Voice',\n",
       "  'Researcher, Speaker and Writer | Professor @ PUC-SP | LinkedIn Top Voice',\n",
       "  'Researcher, Speaker and Writer | Professor @ PUC-SP | LinkedIn Top Voice',\n",
       "  'Researcher, Speaker and Writer | Professor @ PUC-SP | LinkedIn Top Voice',\n",
       "  'Head of Data & Analytics | Data Science Professor | Data Engineer Enthusiast',\n",
       "  'Head of Data & Analytics | Data Science Professor | Data Engineer Enthusiast',\n",
       "  'Head of Data & Analytics | Data Science Professor | Data Engineer Enthusiast',\n",
       "  'Head of Data & Analytics | Data Science Professor | Data Engineer Enthusiast',\n",
       "  'Head of Data & Analytics | Data Science Professor | Data Engineer Enthusiast',\n",
       "  'Head of Data & Analytics | Data Science Professor | Data Engineer Enthusiast'],\n",
       " 'Linkedin Profile': ['https://www.linkedin.com/in/l%C3%A1zaro-ramos/',\n",
       "  'https://www.linkedin.com/in/diogocortiz/',\n",
       "  'https://www.linkedin.com/in/teocalvo/']}"
      ]
     },
     "execution_count": 27,
     "metadata": {},
     "output_type": "execute_result"
    }
   ],
   "source": [
    "myDict"
   ]
  }
 ],
 "metadata": {
  "kernelspec": {
   "display_name": "Python 3",
   "language": "python",
   "name": "python3"
  },
  "language_info": {
   "codemirror_mode": {
    "name": "ipython",
    "version": 3
   },
   "file_extension": ".py",
   "mimetype": "text/x-python",
   "name": "python",
   "nbconvert_exporter": "python",
   "pygments_lexer": "ipython3",
   "version": "3.11.4"
  },
  "orig_nbformat": 4
 },
 "nbformat": 4,
 "nbformat_minor": 2
}
